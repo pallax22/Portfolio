{
 "cells": [
  {
   "cell_type": "markdown",
   "id": "797ae63f",
   "metadata": {},
   "source": [
    "## CODIGO DE EJECUCION"
   ]
  },
  {
   "cell_type": "markdown",
   "id": "64445de1",
   "metadata": {},
   "source": [
    "*NOTA: Para poder usar este código de ejecución hay que lanzarlo desde exactamente el mismo entorno en el que fue creado.*\n",
    "\n",
    "*Se puede instalar ese entorno en la nueva máquina usando el environment.yml que creamos en el set up del proyecto*\n",
    "\n",
    "*Copiar el proyecto1.yml al directorio y en el terminal o anaconda prompt ejecutar:*\n",
    "\n",
    "conda env create --file riesgos.yml --name riesgos"
   ]
  },
  {
   "cell_type": "code",
   "execution_count": 2,
   "id": "cb790bbb",
   "metadata": {},
   "outputs": [],
   "source": [
    "#1.LIBRERIAS\n",
    "import numpy as np\n",
    "import pandas as pd\n",
    "import pickle\n",
    "\n",
    "from sklearn.preprocessing import OrdinalEncoder\n",
    "from sklearn.preprocessing import OneHotEncoder\n",
    "from sklearn.preprocessing import Binarizer\n",
    "from sklearn.preprocessing import MinMaxScaler\n",
    "\n",
    "from sklearn.linear_model import LogisticRegression\n",
    "from sklearn.ensemble import HistGradientBoostingRegressor\n",
    "\n",
    "from sklearn.pipeline import Pipeline\n",
    "from sklearn.preprocessing import FunctionTransformer\n",
    "from sklearn.compose import make_column_transformer\n",
    "from sklearn.pipeline import make_pipeline\n",
    "\n",
    "\n",
    "#1.CARGA DATOS\n",
    "ruta_proyecto = 'C:/Users/Google Drive/DS4B/CursoMachineLearningPython/03_MACHINE_LEARNING/08_CASOS/03_RIESGOS'\n",
    "nombre_fichero_datos = 'validacion.csv'\n",
    "ruta_completa = ruta_proyecto + '/02_Datos/02_Validacion/' + nombre_fichero_datos\n",
    "df = pd.read_csv(ruta_completa,index_col='id_cliente').drop(columns='Unnamed: 0')\n",
    "\n",
    "\n",
    "#2.VARIABLES Y REGISTROS FINALES\n",
    "variables_finales = ['ingresos_verificados',\n",
    "                     'vivienda',\n",
    "                     'finalidad',\n",
    "                     'num_cuotas',\n",
    "                     'antigüedad_empleo',\n",
    "                     'rating',\n",
    "                     'ingresos',\n",
    "                     'dti',\n",
    "                     'num_lineas_credito',\n",
    "                     'porc_uso_revolving',\n",
    "                     'principal',\n",
    "                     'tipo_interes',\n",
    "                     'imp_cuota',\n",
    "                     'num_derogatorios'\n",
    "                  ]\n",
    "a_eliminar = df.loc[df.ingresos > 300000].index.values\n",
    "df = df[~df.index.isin(a_eliminar)]\n",
    "df = df[variables_finales]\n",
    "\n",
    "\n",
    "#3.FUNCIONES DE SOPORTE\n",
    "def calidad_datos(temp):\n",
    "    temp['antigüedad_empleo'] = temp['antigüedad_empleo'].fillna('desconocido')\n",
    "    for column in temp.select_dtypes('number').columns:\n",
    "        temp[column] = temp[column].fillna(0)\n",
    "    return temp\n",
    "\n",
    "def creacion_variables(df):\n",
    "    temp = df.copy()\n",
    "    temp.vivienda = temp.vivienda.replace(['ANY','NONE','OTHER'],'MORTGAGE')\n",
    "    temp.finalidad = temp.finalidad.replace(['wedding','educational','renewable_energy'],'otros')\n",
    "    return(temp)\n",
    "\n",
    "\n",
    "#4.CALIDAD Y CREACION DE VARIABLES\n",
    "x_pd = creacion_variables(calidad_datos(df))\n",
    "x_ead = creacion_variables(calidad_datos(df))\n",
    "x_lgd = creacion_variables(calidad_datos(df))\n",
    "\n",
    "\n",
    "#5.CARGA PIPES DE EJECUCION\n",
    "ruta_pipe_ejecucion_pd = ruta_proyecto + '/04_Modelos/pipe_ejecucion_pd.pickle'\n",
    "ruta_pipe_ejecucion_ead = ruta_proyecto + '/04_Modelos/pipe_ejecucion_ead.pickle'\n",
    "ruta_pipe_ejecucion_lgd = ruta_proyecto + '/04_Modelos/pipe_ejecucion_lgd.pickle'\n",
    "\n",
    "with open(ruta_pipe_ejecucion_pd, mode='rb') as file:\n",
    "   pipe_ejecucion_pd = pickle.load(file)\n",
    "\n",
    "with open(ruta_pipe_ejecucion_ead, mode='rb') as file:\n",
    "   pipe_ejecucion_ead = pickle.load(file)\n",
    "\n",
    "with open(ruta_pipe_ejecucion_lgd, mode='rb') as file:\n",
    "   pipe_ejecucion_lgd = pickle.load(file)\n",
    "\n",
    "\n",
    "#6.EJECUCION\n",
    "scoring_pd = pipe_ejecucion_pd.predict_proba(x_pd)[:, 1]\n",
    "ead = pipe_ejecucion_ead.predict(x_ead)\n",
    "lgd = pipe_ejecucion_lgd.predict(x_lgd)\n",
    "\n",
    "\n",
    "#7.RESULTADO\n",
    "principal = x_pd.principal\n",
    "EL = pd.DataFrame({'principal':principal,\n",
    "                   'pd':scoring_pd,\n",
    "                   'ead':ead,\n",
    "                   'lgd':lgd                   \n",
    "                   })\n",
    "EL['perdida_esperada'] = round(EL.pd * EL.principal * EL.ead * EL.lgd,2)"
   ]
  }
 ],
 "metadata": {
  "kernelspec": {
   "display_name": "Python 3 (ipykernel)",
   "language": "python",
   "name": "python3"
  },
  "language_info": {
   "codemirror_mode": {
    "name": "ipython",
    "version": 3
   },
   "file_extension": ".py",
   "mimetype": "text/x-python",
   "name": "python",
   "nbconvert_exporter": "python",
   "pygments_lexer": "ipython3",
   "version": "3.12.3"
  },
  "toc": {
   "base_numbering": 1,
   "nav_menu": {},
   "number_sections": true,
   "sideBar": true,
   "skip_h1_title": false,
   "title_cell": "Table of Contents",
   "title_sidebar": "Contents",
   "toc_cell": false,
   "toc_position": {
    "height": "calc(100% - 180px)",
    "left": "10px",
    "top": "150px",
    "width": "313.7px"
   },
   "toc_section_display": true,
   "toc_window_display": true
  },
  "varInspector": {
   "cols": {
    "lenName": 16,
    "lenType": 16,
    "lenVar": 40
   },
   "kernels_config": {
    "python": {
     "delete_cmd_postfix": "",
     "delete_cmd_prefix": "del ",
     "library": "var_list.py",
     "varRefreshCmd": "print(var_dic_list())"
    },
    "r": {
     "delete_cmd_postfix": ") ",
     "delete_cmd_prefix": "rm(",
     "library": "var_list.r",
     "varRefreshCmd": "cat(var_dic_list()) "
    }
   },
   "types_to_exclude": [
    "module",
    "function",
    "builtin_function_or_method",
    "instance",
    "_Feature"
   ],
   "window_display": false
  }
 },
 "nbformat": 4,
 "nbformat_minor": 5
}
