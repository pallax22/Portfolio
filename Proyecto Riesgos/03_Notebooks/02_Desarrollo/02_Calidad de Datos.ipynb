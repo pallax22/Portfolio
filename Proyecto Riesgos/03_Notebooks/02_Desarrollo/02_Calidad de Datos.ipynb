{
 "cells": [
  {
   "cell_type": "markdown",
   "id": "d31dea65",
   "metadata": {},
   "source": [
    "# CALIDAD DE DATOS"
   ]
  },
  {
   "cell_type": "markdown",
   "id": "swiss-fault",
   "metadata": {},
   "source": [
    "## IMPORTAR PAQUETES"
   ]
  },
  {
   "cell_type": "code",
   "execution_count": 7,
   "id": "adjacent-toddler",
   "metadata": {},
   "outputs": [],
   "source": [
    "import numpy as np\n",
    "import pandas as pd\n",
    "from janitor import clean_names\n",
    "\n",
    "#Automcompletar rápido\n",
    "%config IPCompleter.greedy=True\n",
    "\n",
    "#Desactivar notación científica\n",
    "pd.options.display.float_format = '{:,.2f}'.format"
   ]
  },
  {
   "cell_type": "markdown",
   "id": "graduate-compensation",
   "metadata": {},
   "source": [
    "## IMPORTAR LOS DATOS"
   ]
  },
  {
   "cell_type": "code",
   "execution_count": 8,
   "id": "28c63848",
   "metadata": {},
   "outputs": [],
   "source": [
    "ruta_proyecto = 'C:/Users/Google Drive/DS4B/CursoMachineLearningPython/03_MACHINE_LEARNING/08_CASOS/03_RIESGOS'"
   ]
  },
  {
   "cell_type": "code",
   "execution_count": 9,
   "id": "5d9dc5ea",
   "metadata": {},
   "outputs": [],
   "source": [
    "nombre_fichero_datos = 'trabajo.csv'"
   ]
  },
  {
   "cell_type": "code",
   "execution_count": 10,
   "id": "24ff453b",
   "metadata": {},
   "outputs": [
    {
     "data": {
      "text/html": [
       "<div>\n",
       "<style scoped>\n",
       "    .dataframe tbody tr th:only-of-type {\n",
       "        vertical-align: middle;\n",
       "    }\n",
       "\n",
       "    .dataframe tbody tr th {\n",
       "        vertical-align: top;\n",
       "    }\n",
       "\n",
       "    .dataframe thead th {\n",
       "        text-align: right;\n",
       "    }\n",
       "</style>\n",
       "<table border=\"1\" class=\"dataframe\">\n",
       "  <thead>\n",
       "    <tr style=\"text-align: right;\">\n",
       "      <th></th>\n",
       "      <th>Unnamed: 0</th>\n",
       "      <th>empleo</th>\n",
       "      <th>antigüedad_empleo</th>\n",
       "      <th>ingresos</th>\n",
       "      <th>ingresos_verificados</th>\n",
       "      <th>rating</th>\n",
       "      <th>dti</th>\n",
       "      <th>vivienda</th>\n",
       "      <th>num_hipotecas</th>\n",
       "      <th>num_lineas_credito</th>\n",
       "      <th>...</th>\n",
       "      <th>id_prestamo</th>\n",
       "      <th>descripcion</th>\n",
       "      <th>finalidad</th>\n",
       "      <th>principal</th>\n",
       "      <th>tipo_interes</th>\n",
       "      <th>num_cuotas</th>\n",
       "      <th>imp_cuota</th>\n",
       "      <th>imp_amortizado</th>\n",
       "      <th>estado</th>\n",
       "      <th>imp_recuperado</th>\n",
       "    </tr>\n",
       "    <tr>\n",
       "      <th>id_cliente</th>\n",
       "      <th></th>\n",
       "      <th></th>\n",
       "      <th></th>\n",
       "      <th></th>\n",
       "      <th></th>\n",
       "      <th></th>\n",
       "      <th></th>\n",
       "      <th></th>\n",
       "      <th></th>\n",
       "      <th></th>\n",
       "      <th></th>\n",
       "      <th></th>\n",
       "      <th></th>\n",
       "      <th></th>\n",
       "      <th></th>\n",
       "      <th></th>\n",
       "      <th></th>\n",
       "      <th></th>\n",
       "      <th></th>\n",
       "      <th></th>\n",
       "      <th></th>\n",
       "    </tr>\n",
       "  </thead>\n",
       "  <tbody>\n",
       "    <tr>\n",
       "      <th>137387967</th>\n",
       "      <td>0</td>\n",
       "      <td>Hvac technician</td>\n",
       "      <td>3 years</td>\n",
       "      <td>54,000.00</td>\n",
       "      <td>Source Verified</td>\n",
       "      <td>A</td>\n",
       "      <td>19.31</td>\n",
       "      <td>MORTGAGE</td>\n",
       "      <td>2.00</td>\n",
       "      <td>10.00</td>\n",
       "      <td>...</td>\n",
       "      <td>NaN</td>\n",
       "      <td>NaN</td>\n",
       "      <td>debt_consolidation</td>\n",
       "      <td>15,000.00</td>\n",
       "      <td>7.21</td>\n",
       "      <td>36 months</td>\n",
       "      <td>464.60</td>\n",
       "      <td>2,669.06</td>\n",
       "      <td>Current</td>\n",
       "      <td>0.00</td>\n",
       "    </tr>\n",
       "    <tr>\n",
       "      <th>132883631</th>\n",
       "      <td>4</td>\n",
       "      <td>Subsea Technician</td>\n",
       "      <td>7 years</td>\n",
       "      <td>125,000.00</td>\n",
       "      <td>Source Verified</td>\n",
       "      <td>B</td>\n",
       "      <td>9.00</td>\n",
       "      <td>MORTGAGE</td>\n",
       "      <td>1.00</td>\n",
       "      <td>6.00</td>\n",
       "      <td>...</td>\n",
       "      <td>NaN</td>\n",
       "      <td>NaN</td>\n",
       "      <td>debt_consolidation</td>\n",
       "      <td>22,000.00</td>\n",
       "      <td>10.90</td>\n",
       "      <td>36 months</td>\n",
       "      <td>719.22</td>\n",
       "      <td>22,000.00</td>\n",
       "      <td>Fully Paid</td>\n",
       "      <td>0.00</td>\n",
       "    </tr>\n",
       "    <tr>\n",
       "      <th>131289518</th>\n",
       "      <td>5</td>\n",
       "      <td>NaN</td>\n",
       "      <td>10+ years</td>\n",
       "      <td>72,777.00</td>\n",
       "      <td>Source Verified</td>\n",
       "      <td>D</td>\n",
       "      <td>24.74</td>\n",
       "      <td>MORTGAGE</td>\n",
       "      <td>2.00</td>\n",
       "      <td>10.00</td>\n",
       "      <td>...</td>\n",
       "      <td>NaN</td>\n",
       "      <td>NaN</td>\n",
       "      <td>home_improvement</td>\n",
       "      <td>25,000.00</td>\n",
       "      <td>21.85</td>\n",
       "      <td>60 months</td>\n",
       "      <td>688.35</td>\n",
       "      <td>2,811.27</td>\n",
       "      <td>Current</td>\n",
       "      <td>0.00</td>\n",
       "    </tr>\n",
       "    <tr>\n",
       "      <th>77861711</th>\n",
       "      <td>6</td>\n",
       "      <td>Correctional officer</td>\n",
       "      <td>10+ years</td>\n",
       "      <td>50,000.00</td>\n",
       "      <td>Verified</td>\n",
       "      <td>C</td>\n",
       "      <td>29.31</td>\n",
       "      <td>MORTGAGE</td>\n",
       "      <td>1.00</td>\n",
       "      <td>8.00</td>\n",
       "      <td>...</td>\n",
       "      <td>NaN</td>\n",
       "      <td>NaN</td>\n",
       "      <td>debt_consolidation</td>\n",
       "      <td>14,400.00</td>\n",
       "      <td>15.31</td>\n",
       "      <td>36 months</td>\n",
       "      <td>501.37</td>\n",
       "      <td>2,310.49</td>\n",
       "      <td>Charged Off</td>\n",
       "      <td>6,430.36</td>\n",
       "    </tr>\n",
       "    <tr>\n",
       "      <th>103448519</th>\n",
       "      <td>7</td>\n",
       "      <td>Web site administrator</td>\n",
       "      <td>10+ years</td>\n",
       "      <td>99,800.00</td>\n",
       "      <td>Not Verified</td>\n",
       "      <td>A</td>\n",
       "      <td>9.69</td>\n",
       "      <td>MORTGAGE</td>\n",
       "      <td>0.00</td>\n",
       "      <td>8.00</td>\n",
       "      <td>...</td>\n",
       "      <td>NaN</td>\n",
       "      <td>NaN</td>\n",
       "      <td>credit_card</td>\n",
       "      <td>9,600.00</td>\n",
       "      <td>5.32</td>\n",
       "      <td>36 months</td>\n",
       "      <td>289.11</td>\n",
       "      <td>6,228.92</td>\n",
       "      <td>Current</td>\n",
       "      <td>0.00</td>\n",
       "    </tr>\n",
       "    <tr>\n",
       "      <th>...</th>\n",
       "      <td>...</td>\n",
       "      <td>...</td>\n",
       "      <td>...</td>\n",
       "      <td>...</td>\n",
       "      <td>...</td>\n",
       "      <td>...</td>\n",
       "      <td>...</td>\n",
       "      <td>...</td>\n",
       "      <td>...</td>\n",
       "      <td>...</td>\n",
       "      <td>...</td>\n",
       "      <td>...</td>\n",
       "      <td>...</td>\n",
       "      <td>...</td>\n",
       "      <td>...</td>\n",
       "      <td>...</td>\n",
       "      <td>...</td>\n",
       "      <td>...</td>\n",
       "      <td>...</td>\n",
       "      <td>...</td>\n",
       "      <td>...</td>\n",
       "    </tr>\n",
       "    <tr>\n",
       "      <th>51876926</th>\n",
       "      <td>199995</td>\n",
       "      <td>Office Manager</td>\n",
       "      <td>10+ years</td>\n",
       "      <td>42,000.00</td>\n",
       "      <td>Not Verified</td>\n",
       "      <td>C</td>\n",
       "      <td>20.85</td>\n",
       "      <td>MORTGAGE</td>\n",
       "      <td>6.00</td>\n",
       "      <td>9.00</td>\n",
       "      <td>...</td>\n",
       "      <td>NaN</td>\n",
       "      <td>NaN</td>\n",
       "      <td>debt_consolidation</td>\n",
       "      <td>8,000.00</td>\n",
       "      <td>12.29</td>\n",
       "      <td>36 months</td>\n",
       "      <td>266.83</td>\n",
       "      <td>8,000.00</td>\n",
       "      <td>Fully Paid</td>\n",
       "      <td>0.00</td>\n",
       "    </tr>\n",
       "    <tr>\n",
       "      <th>121031962</th>\n",
       "      <td>199996</td>\n",
       "      <td>Owner &amp; President</td>\n",
       "      <td>6 years</td>\n",
       "      <td>111,697.00</td>\n",
       "      <td>Verified</td>\n",
       "      <td>B</td>\n",
       "      <td>16.63</td>\n",
       "      <td>MORTGAGE</td>\n",
       "      <td>2.00</td>\n",
       "      <td>10.00</td>\n",
       "      <td>...</td>\n",
       "      <td>NaN</td>\n",
       "      <td>NaN</td>\n",
       "      <td>other</td>\n",
       "      <td>10,000.00</td>\n",
       "      <td>9.44</td>\n",
       "      <td>36 months</td>\n",
       "      <td>320.05</td>\n",
       "      <td>4,388.51</td>\n",
       "      <td>Current</td>\n",
       "      <td>0.00</td>\n",
       "    </tr>\n",
       "    <tr>\n",
       "      <th>135641397</th>\n",
       "      <td>199997</td>\n",
       "      <td>Sr. Field Engineer</td>\n",
       "      <td>10+ years</td>\n",
       "      <td>285,000.00</td>\n",
       "      <td>Source Verified</td>\n",
       "      <td>D</td>\n",
       "      <td>6.02</td>\n",
       "      <td>MORTGAGE</td>\n",
       "      <td>3.00</td>\n",
       "      <td>9.00</td>\n",
       "      <td>...</td>\n",
       "      <td>NaN</td>\n",
       "      <td>NaN</td>\n",
       "      <td>small_business</td>\n",
       "      <td>30,000.00</td>\n",
       "      <td>17.47</td>\n",
       "      <td>36 months</td>\n",
       "      <td>1,076.62</td>\n",
       "      <td>5,387.53</td>\n",
       "      <td>Current</td>\n",
       "      <td>0.00</td>\n",
       "    </tr>\n",
       "    <tr>\n",
       "      <th>53664762</th>\n",
       "      <td>199998</td>\n",
       "      <td>Attorney</td>\n",
       "      <td>8 years</td>\n",
       "      <td>168,000.00</td>\n",
       "      <td>Source Verified</td>\n",
       "      <td>E</td>\n",
       "      <td>4.69</td>\n",
       "      <td>RENT</td>\n",
       "      <td>0.00</td>\n",
       "      <td>8.00</td>\n",
       "      <td>...</td>\n",
       "      <td>NaN</td>\n",
       "      <td>NaN</td>\n",
       "      <td>small_business</td>\n",
       "      <td>30,050.00</td>\n",
       "      <td>18.25</td>\n",
       "      <td>60 months</td>\n",
       "      <td>767.17</td>\n",
       "      <td>2,964.44</td>\n",
       "      <td>Charged Off</td>\n",
       "      <td>2,750.88</td>\n",
       "    </tr>\n",
       "    <tr>\n",
       "      <th>94394801</th>\n",
       "      <td>199999</td>\n",
       "      <td>NaN</td>\n",
       "      <td>NaN</td>\n",
       "      <td>80,000.00</td>\n",
       "      <td>Not Verified</td>\n",
       "      <td>C</td>\n",
       "      <td>31.49</td>\n",
       "      <td>MORTGAGE</td>\n",
       "      <td>1.00</td>\n",
       "      <td>9.00</td>\n",
       "      <td>...</td>\n",
       "      <td>NaN</td>\n",
       "      <td>NaN</td>\n",
       "      <td>debt_consolidation</td>\n",
       "      <td>10,000.00</td>\n",
       "      <td>13.99</td>\n",
       "      <td>36 months</td>\n",
       "      <td>341.73</td>\n",
       "      <td>7,096.40</td>\n",
       "      <td>Current</td>\n",
       "      <td>0.00</td>\n",
       "    </tr>\n",
       "  </tbody>\n",
       "</table>\n",
       "<p>140000 rows × 25 columns</p>\n",
       "</div>"
      ],
      "text/plain": [
       "            Unnamed: 0                   empleo antigüedad_empleo   ingresos  \\\n",
       "id_cliente                                                                     \n",
       "137387967            0         Hvac technician            3 years  54,000.00   \n",
       "132883631            4        Subsea Technician           7 years 125,000.00   \n",
       "131289518            5                      NaN         10+ years  72,777.00   \n",
       "77861711             6     Correctional officer         10+ years  50,000.00   \n",
       "103448519            7  Web site administrator          10+ years  99,800.00   \n",
       "...                ...                      ...               ...        ...   \n",
       "51876926        199995           Office Manager         10+ years  42,000.00   \n",
       "121031962       199996        Owner & President           6 years 111,697.00   \n",
       "135641397       199997       Sr. Field Engineer         10+ years 285,000.00   \n",
       "53664762        199998                 Attorney           8 years 168,000.00   \n",
       "94394801        199999                      NaN               NaN  80,000.00   \n",
       "\n",
       "           ingresos_verificados rating   dti  vivienda  num_hipotecas  \\\n",
       "id_cliente                                                              \n",
       "137387967       Source Verified      A 19.31  MORTGAGE           2.00   \n",
       "132883631       Source Verified      B  9.00  MORTGAGE           1.00   \n",
       "131289518       Source Verified      D 24.74  MORTGAGE           2.00   \n",
       "77861711               Verified      C 29.31  MORTGAGE           1.00   \n",
       "103448519          Not Verified      A  9.69  MORTGAGE           0.00   \n",
       "...                         ...    ...   ...       ...            ...   \n",
       "51876926           Not Verified      C 20.85  MORTGAGE           6.00   \n",
       "121031962              Verified      B 16.63  MORTGAGE           2.00   \n",
       "135641397       Source Verified      D  6.02  MORTGAGE           3.00   \n",
       "53664762        Source Verified      E  4.69      RENT           0.00   \n",
       "94394801           Not Verified      C 31.49  MORTGAGE           1.00   \n",
       "\n",
       "            num_lineas_credito  ...  id_prestamo  descripcion  \\\n",
       "id_cliente                      ...                             \n",
       "137387967                10.00  ...          NaN          NaN   \n",
       "132883631                 6.00  ...          NaN          NaN   \n",
       "131289518                10.00  ...          NaN          NaN   \n",
       "77861711                  8.00  ...          NaN          NaN   \n",
       "103448519                 8.00  ...          NaN          NaN   \n",
       "...                        ...  ...          ...          ...   \n",
       "51876926                  9.00  ...          NaN          NaN   \n",
       "121031962                10.00  ...          NaN          NaN   \n",
       "135641397                 9.00  ...          NaN          NaN   \n",
       "53664762                  8.00  ...          NaN          NaN   \n",
       "94394801                  9.00  ...          NaN          NaN   \n",
       "\n",
       "                     finalidad  principal  tipo_interes  num_cuotas imp_cuota  \\\n",
       "id_cliente                                                                      \n",
       "137387967   debt_consolidation  15,000.00          7.21   36 months    464.60   \n",
       "132883631   debt_consolidation  22,000.00         10.90   36 months    719.22   \n",
       "131289518     home_improvement  25,000.00         21.85   60 months    688.35   \n",
       "77861711    debt_consolidation  14,400.00         15.31   36 months    501.37   \n",
       "103448519          credit_card   9,600.00          5.32   36 months    289.11   \n",
       "...                        ...        ...           ...         ...       ...   \n",
       "51876926    debt_consolidation   8,000.00         12.29   36 months    266.83   \n",
       "121031962                other  10,000.00          9.44   36 months    320.05   \n",
       "135641397       small_business  30,000.00         17.47   36 months  1,076.62   \n",
       "53664762        small_business  30,050.00         18.25   60 months    767.17   \n",
       "94394801    debt_consolidation  10,000.00         13.99   36 months    341.73   \n",
       "\n",
       "           imp_amortizado       estado  imp_recuperado  \n",
       "id_cliente                                              \n",
       "137387967        2,669.06      Current            0.00  \n",
       "132883631       22,000.00   Fully Paid            0.00  \n",
       "131289518        2,811.27      Current            0.00  \n",
       "77861711         2,310.49  Charged Off        6,430.36  \n",
       "103448519        6,228.92      Current            0.00  \n",
       "...                   ...          ...             ...  \n",
       "51876926         8,000.00   Fully Paid            0.00  \n",
       "121031962        4,388.51      Current            0.00  \n",
       "135641397        5,387.53      Current            0.00  \n",
       "53664762         2,964.44  Charged Off        2,750.88  \n",
       "94394801         7,096.40      Current            0.00  \n",
       "\n",
       "[140000 rows x 25 columns]"
      ]
     },
     "execution_count": 10,
     "metadata": {},
     "output_type": "execute_result"
    }
   ],
   "source": [
    "ruta_completa = ruta_proyecto + '/02_Datos/03_Trabajo/' + nombre_fichero_datos\n",
    "\n",
    "df = pd.read_csv(ruta_completa,index_col='id_cliente')\n",
    "df"
   ]
  },
  {
   "cell_type": "markdown",
   "id": "d2d5443c",
   "metadata": {},
   "source": [
    "## VISIÓN GENERAL"
   ]
  },
  {
   "cell_type": "code",
   "execution_count": 11,
   "id": "976c8ac6",
   "metadata": {
    "scrolled": true
   },
   "outputs": [
    {
     "name": "stdout",
     "output_type": "stream",
     "text": [
      "<class 'pandas.core.frame.DataFrame'>\n",
      "Int64Index: 140000 entries, 137387967 to 94394801\n",
      "Data columns (total 25 columns):\n",
      " #   Column                       Non-Null Count   Dtype  \n",
      "---  ------                       --------------   -----  \n",
      " 0   Unnamed: 0                   140000 non-null  int64  \n",
      " 1   empleo                       129684 non-null  object \n",
      " 2   antigüedad_empleo            130967 non-null  object \n",
      " 3   ingresos                     140000 non-null  float64\n",
      " 4   ingresos_verificados         140000 non-null  object \n",
      " 5   rating                       140000 non-null  object \n",
      " 6   dti                          139892 non-null  float64\n",
      " 7   vivienda                     140000 non-null  object \n",
      " 8   num_hipotecas                136919 non-null  float64\n",
      " 9   num_lineas_credito           139998 non-null  float64\n",
      " 10  porc_tarjetas_75p            135362 non-null  float64\n",
      " 11  porc_uso_revolving           139885 non-null  float64\n",
      " 12  num_cancelaciones_12meses    139993 non-null  float64\n",
      " 13  num_derogatorios             139998 non-null  float64\n",
      " 14  num_meses_desde_ult_retraso  68200 non-null   float64\n",
      " 15  id_prestamo                  0 non-null       float64\n",
      " 16  descripcion                  7769 non-null    object \n",
      " 17  finalidad                    140000 non-null  object \n",
      " 18  principal                    140000 non-null  float64\n",
      " 19  tipo_interes                 140000 non-null  float64\n",
      " 20  num_cuotas                   140000 non-null  object \n",
      " 21  imp_cuota                    140000 non-null  float64\n",
      " 22  imp_amortizado               140000 non-null  float64\n",
      " 23  estado                       140000 non-null  object \n",
      " 24  imp_recuperado               140000 non-null  float64\n",
      "dtypes: float64(15), int64(1), object(9)\n",
      "memory usage: 27.8+ MB\n"
     ]
    }
   ],
   "source": [
    "df.info()"
   ]
  },
  {
   "cell_type": "markdown",
   "id": "e96f1c4e",
   "metadata": {},
   "source": [
    "### Corrección"
   ]
  },
  {
   "cell_type": "markdown",
   "id": "dea3f8ac",
   "metadata": {},
   "source": [
    "Eliminar la variable Unnamed: 0"
   ]
  },
  {
   "cell_type": "code",
   "execution_count": 12,
   "id": "94cccc38",
   "metadata": {},
   "outputs": [],
   "source": [
    "df.drop(columns='Unnamed: 0',inplace=True)"
   ]
  },
  {
   "cell_type": "markdown",
   "id": "158ee1d7",
   "metadata": {},
   "source": [
    "## TIPOS DE DATOS"
   ]
  },
  {
   "cell_type": "markdown",
   "id": "88162727",
   "metadata": {},
   "source": [
    "### Identificación"
   ]
  },
  {
   "cell_type": "code",
   "execution_count": 13,
   "id": "197a99c2",
   "metadata": {},
   "outputs": [
    {
     "data": {
      "text/plain": [
       "empleo                          object\n",
       "antigüedad_empleo               object\n",
       "ingresos                       float64\n",
       "ingresos_verificados            object\n",
       "rating                          object\n",
       "dti                            float64\n",
       "vivienda                        object\n",
       "num_hipotecas                  float64\n",
       "num_lineas_credito             float64\n",
       "porc_tarjetas_75p              float64\n",
       "porc_uso_revolving             float64\n",
       "num_cancelaciones_12meses      float64\n",
       "num_derogatorios               float64\n",
       "num_meses_desde_ult_retraso    float64\n",
       "id_prestamo                    float64\n",
       "descripcion                     object\n",
       "finalidad                       object\n",
       "principal                      float64\n",
       "tipo_interes                   float64\n",
       "num_cuotas                      object\n",
       "imp_cuota                      float64\n",
       "imp_amortizado                 float64\n",
       "estado                          object\n",
       "imp_recuperado                 float64\n",
       "dtype: object"
      ]
     },
     "execution_count": 13,
     "metadata": {},
     "output_type": "execute_result"
    }
   ],
   "source": [
    "df.dtypes"
   ]
  },
  {
   "cell_type": "markdown",
   "id": "f29bc3fb",
   "metadata": {},
   "source": [
    "Conclusiones:\n",
    "\n",
    "* Todo correcto en cuanto a tipo de datos"
   ]
  },
  {
   "cell_type": "markdown",
   "id": "cc8d4a22",
   "metadata": {},
   "source": [
    "## VALORES ÚNICOS"
   ]
  },
  {
   "cell_type": "markdown",
   "id": "f21f0e36",
   "metadata": {},
   "source": [
    "### Identificación"
   ]
  },
  {
   "cell_type": "code",
   "execution_count": 14,
   "id": "6e53e444",
   "metadata": {
    "scrolled": true
   },
   "outputs": [
    {
     "data": {
      "text/plain": [
       "id_prestamo                        0\n",
       "num_cuotas                         2\n",
       "ingresos_verificados               3\n",
       "vivienda                           6\n",
       "num_cancelaciones_12meses          7\n",
       "rating                             7\n",
       "estado                             9\n",
       "antigüedad_empleo                 11\n",
       "finalidad                         14\n",
       "num_derogatorios                  20\n",
       "num_hipotecas                     24\n",
       "num_lineas_credito                61\n",
       "num_meses_desde_ult_retraso      132\n",
       "porc_tarjetas_75p                165\n",
       "tipo_interes                     580\n",
       "porc_uso_revolving              1102\n",
       "principal                       1471\n",
       "dti                             5309\n",
       "descripcion                     7747\n",
       "imp_recuperado                 10666\n",
       "ingresos                       11659\n",
       "imp_cuota                      33599\n",
       "empleo                         54492\n",
       "imp_amortizado                 57818\n",
       "dtype: int64"
      ]
     },
     "execution_count": 14,
     "metadata": {},
     "output_type": "execute_result"
    }
   ],
   "source": [
    "df.nunique().sort_values()"
   ]
  },
  {
   "cell_type": "markdown",
   "id": "a1106594",
   "metadata": {},
   "source": [
    "Conclusiones:\n",
    "\n",
    "* id_prestamo con menos de 2 valores --> eliminar"
   ]
  },
  {
   "cell_type": "markdown",
   "id": "b1d1a668",
   "metadata": {},
   "source": [
    "### Corrección"
   ]
  },
  {
   "cell_type": "code",
   "execution_count": 15,
   "id": "62f7d14e",
   "metadata": {},
   "outputs": [],
   "source": [
    "df.drop(columns = 'id_prestamo', inplace = True)"
   ]
  },
  {
   "cell_type": "markdown",
   "id": "e25cfc89",
   "metadata": {},
   "source": [
    "## DUPLICADOS"
   ]
  },
  {
   "cell_type": "markdown",
   "id": "8a079ed3",
   "metadata": {},
   "source": [
    "### Identificación"
   ]
  },
  {
   "cell_type": "code",
   "execution_count": 16,
   "id": "f5b23bfc",
   "metadata": {
    "scrolled": true
   },
   "outputs": [
    {
     "data": {
      "text/plain": [
       "0"
      ]
     },
     "execution_count": 16,
     "metadata": {},
     "output_type": "execute_result"
    }
   ],
   "source": [
    "df.duplicated().sum()"
   ]
  },
  {
   "cell_type": "markdown",
   "id": "632ec2cd",
   "metadata": {},
   "source": [
    "## SEPARAR NUMÉRICAS Y CATEGÓRICAS"
   ]
  },
  {
   "cell_type": "markdown",
   "id": "573a61ac",
   "metadata": {},
   "source": [
    "### Categóricas"
   ]
  },
  {
   "cell_type": "code",
   "execution_count": 17,
   "id": "47a7eece",
   "metadata": {},
   "outputs": [],
   "source": [
    "cat = df.select_dtypes(exclude = 'number').copy()"
   ]
  },
  {
   "cell_type": "markdown",
   "id": "41756893",
   "metadata": {},
   "source": [
    "### Numéricas"
   ]
  },
  {
   "cell_type": "code",
   "execution_count": 18,
   "id": "59140e9a",
   "metadata": {},
   "outputs": [],
   "source": [
    "num = df.select_dtypes(include='number').copy()"
   ]
  },
  {
   "cell_type": "markdown",
   "id": "5e7d8e7e",
   "metadata": {},
   "source": [
    "## GESTIÓN DE CATEGÓRICAS"
   ]
  },
  {
   "cell_type": "markdown",
   "id": "5b5808b7",
   "metadata": {},
   "source": [
    "### Nulos"
   ]
  },
  {
   "cell_type": "markdown",
   "id": "5c08ca55",
   "metadata": {},
   "source": [
    "#### Identificación"
   ]
  },
  {
   "cell_type": "code",
   "execution_count": 21,
   "id": "da49ae63",
   "metadata": {
    "scrolled": true
   },
   "outputs": [
    {
     "data": {
      "text/plain": [
       "descripcion             132231\n",
       "empleo                   10316\n",
       "antigüedad_empleo         9033\n",
       "ingresos_verificados         0\n",
       "rating                       0\n",
       "vivienda                     0\n",
       "finalidad                    0\n",
       "num_cuotas                   0\n",
       "estado                       0\n",
       "dtype: int64"
      ]
     },
     "execution_count": 21,
     "metadata": {},
     "output_type": "execute_result"
    }
   ],
   "source": [
    "cat.isna().sum().sort_values(ascending = False)"
   ]
  },
  {
   "cell_type": "code",
   "execution_count": 20,
   "id": "b95992ce",
   "metadata": {},
   "outputs": [
    {
     "data": {
      "text/plain": [
       "NaN                                                                                                                                                                                                                                                                                                                                                                                                                                                                                     132231\n",
       "                                                                                                                                                                                                                                                                                                                                                                                                                                                                                            16\n",
       "Personal loan                                                                                                                                                                                                                                                                                                                                                                                                                                                                                2\n",
       "  Borrower added on 07/26/13 > Debt Consolidation<br>                                                                                                                                                                                                                                                                                                                                                                                                                                        2\n",
       "Debt consolidation                                                                                                                                                                                                                                                                                                                                                                                                                                                                           2\n",
       "                                                                                                                                                                                                                                                                                                                                                                                                                                                                                         ...  \n",
       "  Borrower added on 07/05/12 > Some of this money will be used to pay off some small doctor bills and the rest will be going towards my wedding in September.<br>                                                                                                                                                                                                                                                                                                                            1\n",
       "  Borrower added on 12/18/12 > would like to consolidate my credits into one payment with lower intrest with the intent to pay off sooner.<br>                                                                                                                                                                                                                                                                                                                                               1\n",
       "  Borrower added on 03/12/14 > credit cards and debt<br>                                                                                                                                                                                                                                                                                                                                                                                                                                     1\n",
       "  Borrower added on 02/20/13 > Want to close all small loans and have it as one.<br>                                                                                                                                                                                                                                                                                                                                                                                                         1\n",
       "  Borrower added on 11/01/11 > Looking to use this loan to repay my large credit card debits.  I have always paid all of my debt payments on time, and am trying to get out from underneath all of this credit card debt now.  I have an extremely safe job as I work for a very conservative international mutual fund company, which I have been employed by for 5 years now.  Please let me know if you would like any further information about this loan.<br/><br/>Thanks!<br/>         1\n",
       "Name: descripcion, Length: 7748, dtype: int64"
      ]
     },
     "execution_count": 20,
     "metadata": {},
     "output_type": "execute_result"
    }
   ],
   "source": [
    "cat.descripcion.value_counts(dropna=False)"
   ]
  },
  {
   "cell_type": "code",
   "execution_count": 22,
   "id": "d3b9f1e7",
   "metadata": {},
   "outputs": [
    {
     "data": {
      "text/plain": [
       "NaN                       10316\n",
       "Teacher                    2522\n",
       "Manager                    2170\n",
       "Owner                      1341\n",
       "Registered Nurse            971\n",
       "                          ...  \n",
       "glazer                        1\n",
       "Journey Admin Clerk           1\n",
       "Regional VP Operations        1\n",
       "Cerner Corporation            1\n",
       "Sr. Field Engineer            1\n",
       "Name: empleo, Length: 54493, dtype: int64"
      ]
     },
     "execution_count": 22,
     "metadata": {},
     "output_type": "execute_result"
    }
   ],
   "source": [
    "cat.empleo.value_counts(dropna=False)"
   ]
  },
  {
   "cell_type": "code",
   "execution_count": 23,
   "id": "cac1218b",
   "metadata": {},
   "outputs": [
    {
     "data": {
      "text/plain": [
       "10+ years    46111\n",
       "2 years      12542\n",
       "< 1 year     11883\n",
       "3 years      11203\n",
       "1 year        9142\n",
       "NaN           9033\n",
       "5 years       8823\n",
       "4 years       8579\n",
       "6 years       6259\n",
       "7 years       5752\n",
       "8 years       5730\n",
       "9 years       4943\n",
       "Name: antigüedad_empleo, dtype: int64"
      ]
     },
     "execution_count": 23,
     "metadata": {},
     "output_type": "execute_result"
    }
   ],
   "source": [
    "cat.antigüedad_empleo.value_counts(dropna=False)"
   ]
  },
  {
   "cell_type": "markdown",
   "id": "45ca2193",
   "metadata": {},
   "source": [
    "Conclusiones:\n",
    "\n",
    "* sustituir todas por valor 'desconocido'"
   ]
  },
  {
   "cell_type": "markdown",
   "id": "6802d575",
   "metadata": {},
   "source": [
    "#### Corrección"
   ]
  },
  {
   "cell_type": "markdown",
   "id": "ebeb52a6",
   "metadata": {},
   "source": [
    "##### Imputar por un valor"
   ]
  },
  {
   "cell_type": "markdown",
   "id": "2cba1c3c",
   "metadata": {},
   "source": [
    "###### Variables a imputar"
   ]
  },
  {
   "cell_type": "code",
   "execution_count": 24,
   "id": "4050ef9f",
   "metadata": {},
   "outputs": [],
   "source": [
    "var_imputar_desconocido = ['descripcion','empleo','antigüedad_empleo']"
   ]
  },
  {
   "cell_type": "markdown",
   "id": "78d10252",
   "metadata": {},
   "source": [
    "###### Imputar"
   ]
  },
  {
   "cell_type": "code",
   "execution_count": 25,
   "id": "f16e8491",
   "metadata": {},
   "outputs": [],
   "source": [
    "cat[var_imputar_desconocido] = cat[var_imputar_desconocido].fillna('desconocido')"
   ]
  },
  {
   "cell_type": "markdown",
   "id": "db3a72a6",
   "metadata": {},
   "source": [
    "## GESTIÓN DE NUMÉRICAS"
   ]
  },
  {
   "cell_type": "markdown",
   "id": "d65bd06a",
   "metadata": {},
   "source": [
    "### Nulos"
   ]
  },
  {
   "cell_type": "markdown",
   "id": "e5ee8416",
   "metadata": {},
   "source": [
    "#### Identificación"
   ]
  },
  {
   "cell_type": "code",
   "execution_count": 26,
   "id": "c9f054a3",
   "metadata": {
    "scrolled": true
   },
   "outputs": [
    {
     "data": {
      "text/plain": [
       "num_meses_desde_ult_retraso    71800\n",
       "porc_tarjetas_75p               4638\n",
       "num_hipotecas                   3081\n",
       "porc_uso_revolving               115\n",
       "dti                              108\n",
       "num_cancelaciones_12meses          7\n",
       "num_lineas_credito                 2\n",
       "num_derogatorios                   2\n",
       "ingresos                           0\n",
       "principal                          0\n",
       "tipo_interes                       0\n",
       "imp_cuota                          0\n",
       "imp_amortizado                     0\n",
       "imp_recuperado                     0\n",
       "dtype: int64"
      ]
     },
     "execution_count": 26,
     "metadata": {},
     "output_type": "execute_result"
    }
   ],
   "source": [
    "num.isna().sum().sort_values(ascending = False)"
   ]
  },
  {
   "cell_type": "markdown",
   "id": "a043a2e8",
   "metadata": {},
   "source": [
    "Veamoslas con más detalle."
   ]
  },
  {
   "cell_type": "code",
   "execution_count": 27,
   "id": "aa5112af",
   "metadata": {},
   "outputs": [
    {
     "data": {
      "image/png": "[encoded data removed]",
      "text/plain": [
       "<Figure size 864x432 with 1 Axes>"
      ]
     },
     "metadata": {
      "needs_background": "light"
     },
     "output_type": "display_data"
    }
   ],
   "source": [
    "num.num_meses_desde_ult_retraso.value_counts().sort_index().plot.bar(figsize = (12,6));"
   ]
  },
  {
   "cell_type": "markdown",
   "id": "7e2ff55b",
   "metadata": {},
   "source": [
    "Haya ceros, pero parecen pocos para una variable que implica retrasos.\n",
    "\n",
    "Así que vamos a pensar que los nulos significan que no ha habido retrasos.\n",
    "\n",
    "Y por tanto imputar por ceros."
   ]
  },
  {
   "cell_type": "code",
   "execution_count": 28,
   "id": "2873ee93",
   "metadata": {},
   "outputs": [
    {
     "data": {
      "image/png": "[encoded data removed]",
      "text/plain": [
       "<Figure size 864x432 with 1 Axes>"
      ]
     },
     "metadata": {
      "needs_background": "light"
     },
     "output_type": "display_data"
    }
   ],
   "source": [
    "num.porc_tarjetas_75p.value_counts().sort_index().plot.bar(figsize = (12,6));"
   ]
  },
  {
   "cell_type": "markdown",
   "id": "1bff94a6",
   "metadata": {},
   "source": [
    "La categoría mayoritaria es cero.\n",
    "\n",
    "Imputaremos por cero."
   ]
  },
  {
   "cell_type": "code",
   "execution_count": 29,
   "id": "e0bb1a4a",
   "metadata": {},
   "outputs": [
    {
     "data": {
      "image/png": "[encoded data removed]",
      "text/plain": [
       "<Figure size 864x432 with 1 Axes>"
      ]
     },
     "metadata": {
      "needs_background": "light"
     },
     "output_type": "display_data"
    }
   ],
   "source": [
    "num.num_hipotecas.value_counts().sort_index().plot.bar(figsize = (12,6));"
   ]
  },
  {
   "cell_type": "markdown",
   "id": "d0269d6c",
   "metadata": {},
   "source": [
    "La categoría mayoritaria es cero.\n",
    "\n",
    "Imputaremos por cero."
   ]
  },
  {
   "cell_type": "markdown",
   "id": "750b3940",
   "metadata": {},
   "source": [
    "Conclusiones:\n",
    "\n",
    "* imputar todas por ceros"
   ]
  },
  {
   "cell_type": "markdown",
   "id": "562eea7f",
   "metadata": {},
   "source": [
    "#### Corrección"
   ]
  },
  {
   "cell_type": "code",
   "execution_count": 39,
   "id": "37d7e0d9",
   "metadata": {},
   "outputs": [],
   "source": [
    "num.fillna(0,inplace=True)"
   ]
  },
  {
   "cell_type": "markdown",
   "id": "82cb56e8",
   "metadata": {},
   "source": [
    "### Atípicos"
   ]
  },
  {
   "cell_type": "markdown",
   "id": "760baf8c",
   "metadata": {},
   "source": [
    "#### Por desviación típica"
   ]
  },
  {
   "cell_type": "markdown",
   "id": "4b508149",
   "metadata": {},
   "source": [
    "##### Identificación"
   ]
  },
  {
   "cell_type": "markdown",
   "id": "8ceda3d3",
   "metadata": {},
   "source": [
    "###### Definir el número de desviaciones típicas"
   ]
  },
  {
   "cell_type": "code",
   "execution_count": 40,
   "id": "2b7419cb",
   "metadata": {},
   "outputs": [],
   "source": [
    "num_desv_tip = 4"
   ]
  },
  {
   "cell_type": "markdown",
   "id": "942da237",
   "metadata": {},
   "source": [
    "###### Función que devuelve los índices de los atípicos"
   ]
  },
  {
   "cell_type": "code",
   "execution_count": 41,
   "id": "8a81f494",
   "metadata": {},
   "outputs": [],
   "source": [
    "def atipicos_desv_tip(variable, num_desv_tip = 4):\n",
    "    #sacamos los nulos por ahora\n",
    "    variable = variable.dropna()\n",
    "    #calculamos los límites\n",
    "    media = np.mean(variable)\n",
    "    sd = np.std(variable)\n",
    "    umbral = sd * num_desv_tip\n",
    "    lim_inf = media - umbral\n",
    "    lim_sup = media + umbral\n",
    "    #encontramos los índices de los que están fuera de los límites\n",
    "    indices = [indice for indice,valor in variable.items() if valor < lim_inf or valor > lim_sup]\n",
    "    return(indices)"
   ]
  },
  {
   "cell_type": "markdown",
   "id": "768e7398",
   "metadata": {},
   "source": [
    "###### Función que cuenta el número de atípicos"
   ]
  },
  {
   "cell_type": "code",
   "execution_count": 42,
   "id": "5c8f4462",
   "metadata": {},
   "outputs": [],
   "source": [
    "def conteo_atipicos(df,variable, num_desv_tip = 4):\n",
    "    atipicos = atipicos_desv_tip(df[variable], num_desv_tip)\n",
    "    return(df.loc[atipicos,variable].value_counts().sort_index())"
   ]
  },
  {
   "cell_type": "markdown",
   "id": "5cd1e425",
   "metadata": {},
   "source": [
    "###### Variables a aplicar"
   ]
  },
  {
   "cell_type": "code",
   "execution_count": 43,
   "id": "cfbb3d88",
   "metadata": {},
   "outputs": [],
   "source": [
    "var_atipicos_dt = ['ingresos','principal','imp_cuota','imp_recuperado']"
   ]
  },
  {
   "cell_type": "markdown",
   "id": "ac400ced",
   "metadata": {},
   "source": [
    "###### Aplicar"
   ]
  },
  {
   "cell_type": "code",
   "execution_count": 44,
   "id": "c4b74e98",
   "metadata": {},
   "outputs": [
    {
     "name": "stdout",
     "output_type": "stream",
     "text": [
      "\n",
      "ingresos:\n",
      "\n",
      "432,824.00       1\n",
      "435,000.00       4\n",
      "439,840.00       1\n",
      "439,868.00       1\n",
      "440,000.00       3\n",
      "                ..\n",
      "7,845,315.00     1\n",
      "8,500,000.00     1\n",
      "8,500,021.00     1\n",
      "9,550,000.00     1\n",
      "10,999,200.00    1\n",
      "Name: ingresos, Length: 140, dtype: int64\n",
      "\n",
      "principal:\n",
      "\n",
      "Series([], Name: principal, dtype: int64)\n",
      "\n",
      "imp_cuota:\n",
      "\n",
      "1,566.80    2\n",
      "1,587.02    1\n",
      "1,607.80    1\n",
      "1,714.54    1\n",
      "Name: imp_cuota, dtype: int64\n",
      "\n",
      "imp_recuperado:\n",
      "\n",
      "3,213.00     1\n",
      "3,213.23     1\n",
      "3,213.24     1\n",
      "3,216.59     1\n",
      "3,217.97     1\n",
      "            ..\n",
      "24,383.06    1\n",
      "26,172.99    1\n",
      "27,478.64    1\n",
      "27,657.68    1\n",
      "33,407.16    1\n",
      "Name: imp_recuperado, Length: 1582, dtype: int64\n"
     ]
    }
   ],
   "source": [
    "for variable in var_atipicos_dt:\n",
    "    print('\\n' + variable + ':\\n')\n",
    "    print(conteo_atipicos(num,variable,num_desv_tip))"
   ]
  },
  {
   "cell_type": "markdown",
   "id": "5beaeba9",
   "metadata": {},
   "source": [
    "Revisamos con más detalle la variable ingresos."
   ]
  },
  {
   "cell_type": "code",
   "execution_count": 45,
   "id": "0b1c7eb8",
   "metadata": {},
   "outputs": [
    {
     "data": {
      "text/plain": [
       "count      140,000.00\n",
       "mean        78,257.64\n",
       "std         88,623.07\n",
       "min              0.00\n",
       "25%         46,000.00\n",
       "50%         65,000.00\n",
       "75%         93,000.00\n",
       "max     10,999,200.00\n",
       "Name: ingresos, dtype: float64"
      ]
     },
     "execution_count": 45,
     "metadata": {},
     "output_type": "execute_result"
    }
   ],
   "source": [
    "num.ingresos.describe()"
   ]
  },
  {
   "cell_type": "markdown",
   "id": "5197aae9",
   "metadata": {},
   "source": [
    "##### Corrección"
   ]
  },
  {
   "cell_type": "markdown",
   "id": "2b9255dd",
   "metadata": {},
   "source": [
    "Eliminar los registros con ingresos superiores a 300.000$"
   ]
  },
  {
   "cell_type": "code",
   "execution_count": 46,
   "id": "7d1c1e81",
   "metadata": {},
   "outputs": [
    {
     "data": {
      "text/plain": [
       "array([ 97629676,    601669, 115087816,  30115373,  58654033,  96702950,\n",
       "       128295694,  57316403,  75468055,  68355962,  60525500,  74703269,\n",
       "        70631462, 121891976, 141509839,  99967449,  74845067,  91162705,\n",
       "        69967314,  69127903, 134144676,  33371205,  88195703, 114793732,\n",
       "        97457564,   9746316, 110905405,  89794872,  93634763,  75358546,\n",
       "        70592833, 104959821, 107733336,  93092543,  91131807,    489907,\n",
       "        57074442,  60831304,  40942257,  79492925, 116881558,  79390430,\n",
       "       141591423,  60963266, 138925364, 102523636, 128067879, 125219862,\n",
       "        88921166,  18895853, 109743090, 131383380, 109322909, 141468030,\n",
       "        92035926, 137347897,  53252537,  12938159, 107355068, 120217704,\n",
       "       104110402,  65795964, 125737574, 132251779,   4044958, 134479546,\n",
       "       134323203, 104319520, 145242693,   2367546,  79081285,    620850,\n",
       "        40385541, 120150582,  74585468, 143147174, 105895840, 124877413,\n",
       "       125330617, 103337282,  14479716,   2092000,  54248761, 145550896,\n",
       "       145349679,  10105445,  57206063, 122681489, 120205589,  46808563,\n",
       "       120605739,   1689366,  62236660, 109005497,  88096112,  88763639,\n",
       "        51898166, 130368292, 119787910,  56934450,  35286237,  14530758,\n",
       "        39360555,  93960404, 135369591, 119238056, 140851137, 140959562,\n",
       "        41130637, 110714446, 143570470,   6708897,  50515982, 142066146,\n",
       "        51195674,  98197574, 127980829,  75768580, 139257255,  83964896,\n",
       "        44796469, 134144026, 139043081,  81180268,  93820307, 142447421,\n",
       "        98845836, 122341298,  60893886,  33411438,  94479580, 127844526,\n",
       "        94413951, 134124984,  67989743, 142275020, 121858382,  12596976,\n",
       "        50053165,   5648222, 134742400,  88138821,  44389210,   9775633,\n",
       "       134387430, 102586814, 133534237,   1601226,   4305549,  73302640,\n",
       "       100081315, 131712369,  10156133, 135655382,  19096231,  74664210,\n",
       "        21940897,  31396507,  76371883, 134123942, 110212529, 131284811,\n",
       "       108133540,  91029006, 115397680, 122845355,  49874780,  73724009,\n",
       "        68553398,  90114483, 130334199,  65736947, 131986111,  75291684,\n",
       "        40492358,  77871568, 141129471,  46397393,  77491016,    482198,\n",
       "       137369982,  87154949, 132293472, 130818455, 143753355, 124837135,\n",
       "        46586567,  65682244,  90427593, 103467994, 144712082,  75209638,\n",
       "       130369988,  98777269, 139531061, 124035266,  41950206,  28744221,\n",
       "        69156599, 141423357,  34422190,  23825570, 102476130,  67918262,\n",
       "       135559263, 137921648,   7092557, 137148507, 129397414,   2475869,\n",
       "       133941950, 131507942, 139490749,  88792922,  39897292,  82030165,\n",
       "       130895522,  96202237,  12776568, 134083720,  70650998, 145357122,\n",
       "        51396630,    561266, 124795220,  54197540, 139807209, 114175196,\n",
       "       127391586,  78709637, 142179922, 122227510,  56864853, 107365904,\n",
       "       140958054,  44045403, 144794804,  80628288,  56662225,  96510442,\n",
       "       109043561, 126492093, 111896883, 137039711,   9816896,  52668765,\n",
       "       124764970, 128536277,  61922933,  68394198, 122673742, 133378805,\n",
       "        96411541, 109915862,   8988273,  55210374,  55959447, 132203115,\n",
       "       124793864, 129516435,  28553097,  75203080, 125178698,  83388134,\n",
       "       136970362,   6765363,  90275160,  94057751,  16321577, 129923979,\n",
       "        58270253,  39652015, 119301803,  74682106,  50565203,  95311620,\n",
       "       132435925,  73558953, 122359952,  81110235,  68999727,  57824714,\n",
       "       131524691,  95037050,  79141935,  90190959,  46447735,   8494875,\n",
       "        67045514, 104100603,  77021408, 133490161, 126118103,  42642363,\n",
       "        93267384,  93110198,  97912497,  12625492,  75224867,  37217305,\n",
       "        79152000, 100075773,  65373356,  58502629, 103427531,  35683571,\n",
       "        91687865, 143429455, 127103613, 138871938, 141297636,  60286418,\n",
       "       131441921,  23873784,  66401051,  90985447, 119401404,   4094838,\n",
       "        90135284,  61509813,  38429317,  76293515, 129105125,  90160890,\n",
       "        25317030,  85018036, 140000033,  64360491, 138729453,  35146345,\n",
       "        28112154,  74975681,  97323656, 107594877,  91127894,  21501092,\n",
       "       131620377, 117863523,  43391740,  99974574, 142965286, 126564865,\n",
       "       126102538,  94058423, 127100028,  66434325,  62529469,  88132160,\n",
       "       134070039,  88866153, 137542106,  70461356,  50467050, 111896701,\n",
       "        94747729, 121927166,  18645650, 142688664,   4564864, 107276053,\n",
       "       121326036, 139425758, 127647557,  38291817, 121326208,  66086633,\n",
       "       112877623,  97304366,  86962780, 131391959,  34352623, 139391691,\n",
       "        71746345,  63385786, 106493649, 134218440, 124804450, 139347011,\n",
       "        54848657,  98093258,  38524975, 141706040,  46447363, 127946315,\n",
       "        90098332, 121345628, 115351209, 125754008, 105577516, 141414563,\n",
       "       136479269,  44127068,  10149577,  64097639, 131169155,  26699946,\n",
       "       106845370, 110353166,  85370158,  75094809,  72585852,  11975868,\n",
       "       122698257,  93911517, 124774802,  64391289,  89858761, 114219428,\n",
       "       119223452,  71061821, 132067683,  67286290,  28212093,   3057462,\n",
       "       142637793, 130344866,  65864699,  43245920,  54047516, 109650231,\n",
       "       125915713,  63919025,  18564727, 118198788, 125338224, 139660109,\n",
       "       145074086, 138773650,  73479902, 139292469,  29743947,  94436457,\n",
       "        77815724,  84101665,   4305663, 132242662, 138248494,  59023219,\n",
       "       105689911,  73943681,  14548057,  96696319,  50627726, 126279677,\n",
       "        70836049,  14638033, 129816807, 109331416,  50920454, 139625355,\n",
       "       119315129,  97316472,   6739165,  70091528,   4548460,  81405134,\n",
       "       143875450, 144580467, 123070288,  94336985,  84476341,  12947239,\n",
       "        56101281, 137322291,   5620186,  98441217,   3701879,  10775105,\n",
       "        70944742,  57326917,  98207319, 144110938,  83889556,  70811286,\n",
       "        74514857, 111730660, 120186820,  59581973,  95756740,  74574091,\n",
       "        65434500,  39249244, 141030059, 120385175, 134263675,  61502799,\n",
       "        71756031,  93135754,  81513403, 125495384,  94293814, 130085183,\n",
       "        68262643, 125693256,  54928488,  56079482, 140937692,  75103252,\n",
       "        50465393,  37751532,  55928591,   1437658, 124457391,  85641729,\n",
       "       139621248, 142934714, 142990784, 130820205, 133449364,  17332882,\n",
       "        99320418, 127906059,  87165108, 117807046, 129766898, 125034601,\n",
       "       108514084,  26989794, 141804011,  74101233, 141886677, 105141433,\n",
       "        72683773,  77298827,  52709212,  75182422,  95330554,  38655125,\n",
       "       119136559,  88783764,  60871980,  45794303, 144138560,   4095255,\n",
       "        66502360,  40107290, 140879695,  26749474,  60556832,  87904317,\n",
       "        69742452,    986703,  83313940, 137212507, 136800122,  90299072,\n",
       "       129997570, 104664297,  55455330,  93708555,  88989629,  99707616,\n",
       "        96342937,  86522701,   9209184, 121337630,  40999819, 139104218,\n",
       "        53795273, 125855577,  73231267,  29164336,   8659312,  10754853,\n",
       "       120158038,  85291159, 126203380,  38647539,  67808218, 144118144,\n",
       "        75941752, 142877040,  12706051,  65725904, 106936032,  92204864,\n",
       "       127103693,  56482837, 137049127,   4544953,  51376251,  19607586,\n",
       "        46612958,  76193637, 144707260,  39580700, 125281686,    785827,\n",
       "        86246563,   7057063,  48765830, 133505298, 132623042, 131547163,\n",
       "       143917509, 132700799,  70291935,  83826256,  43470183,   9047763,\n",
       "          600335,  57164896,  96421352, 121366722, 106806597, 112029060,\n",
       "       133797798,    987778, 125704018,  68895741, 134316802,  77961221,\n",
       "        75368178, 120384326,  97367806, 135793422, 131405802, 125044099,\n",
       "         9914858, 112159196, 143081204,   7698843,  50580811, 139003798,\n",
       "        13737728,  68414600, 110343004, 141510571,   1826732, 118328197,\n",
       "       121259121, 101961161, 137443466,    736949,  97356377, 112840564,\n",
       "        27721310,  89909030, 111409777, 105637642,  15840838, 140138838,\n",
       "        63888868, 123044725,  75678885, 108107905, 127319246, 143625865,\n",
       "       126113926, 119261152,  97268541,  66463794, 104472570, 123994978,\n",
       "        70742939,  52506425, 140538544,  92339595,   9694744,  77506868,\n",
       "          519954, 119398720, 142896440, 127489117,  42161459,  48001155,\n",
       "        67358976, 114218348, 125018087, 110321902,  53444664, 130946575,\n",
       "         1282553,  84625764,  59391462, 109780689,  95149159,  49973369,\n",
       "        60356694,  77416427,  88880516, 128639846,  11726293,  83757649,\n",
       "        76301674, 142504686,  69646648,  70741949,   3525351, 115691214,\n",
       "       118224064, 103637970,  41120916, 138931692, 144974515,  16912784,\n",
       "        70552657, 143363014, 111558517, 143189082, 120659977,  12499335,\n",
       "       138203580, 109741122,  70571444,  95203319,  96493730, 126286137,\n",
       "        73312777,    792270, 135374430, 128746206, 127274866,  92729477,\n",
       "       106347831,  69522356, 136911748, 125051305, 141216676, 109882084,\n",
       "        91230203, 141057367, 130928715,  60890496, 128733287, 132458431,\n",
       "        38637805, 142853610, 100005147, 108124357, 113822365, 136899808,\n",
       "        66440322, 142998906, 142911819,    405012,  94191553, 130195255,\n",
       "       128244676,  75878818,   1446979, 132084541, 142536497,  78800043,\n",
       "       110261189, 140250578,  76558623,  69762726, 136034396,  16231199,\n",
       "        76498600,  95312173, 136149839,  66420385, 144597540, 126419934,\n",
       "        43499873,  92912522, 143892648,  51126322, 107559420,  98795657,\n",
       "       107357067,  46782740,  12515907,  23965663,  62337205, 129870781,\n",
       "       113537734, 145090075,  70090973, 132997717, 119404461,  63328940,\n",
       "       119796394,   4566526, 102216584,  79370500, 112565361, 126757972,\n",
       "        71472622,   3700899,  92491854,  70886304,  37021348, 129635030,\n",
       "        34502262, 138585728,  98438505,  37730723, 137884077,  76052973,\n",
       "       117489130, 126162273,  68884530, 134330443,  96261571,  65975274,\n",
       "        52057332, 142092780, 142892764, 118065195,  90215075, 120623258,\n",
       "       116244189,  57044192,  65128137, 125939307,  59462084, 110311657,\n",
       "        69127115,  91984876, 122285995, 139774280, 134932519,  57286589,\n",
       "       102435586,  15439813,  13267509,  85371987, 117841293, 105773455,\n",
       "       107092597, 134984803,  17745825,  75324463, 129394580,  99927033,\n",
       "        65364744,  88014924, 122700272, 141068415,  83756574, 107058120,\n",
       "        76411138, 136429088,  94291807,  88133019,  77091866, 125177151,\n",
       "       142890805,  33230347, 123604983, 117218856, 139391814,  62237668,\n",
       "       134296571, 145417443,  97559272,  63527270, 133076559,  74532268,\n",
       "       138282206,  26200126, 138054070, 140832746,  39571843, 121789304,\n",
       "        96425877,  54423766, 136396069,  55981721, 120047808, 121320830,\n",
       "       143887377,  61354166,  13496989, 105873152,  68691365,  44106486,\n",
       "        96379781,  61311868, 127213522, 136607131,  60904733,  71755374,\n",
       "        58682603,  70511606, 127331446, 139794277, 136269133, 102463427,\n",
       "       125728448, 112838177, 141234913,  92460017, 112046210,  88704137,\n",
       "        90481398, 125170201,   4298738,  39480666, 123063931, 126624031,\n",
       "        43935902,  21591313,  43287211,  63286685,  14678810,  46376412,\n",
       "         4307450, 125472952,  16542794, 124998744, 104541361,   7081552,\n",
       "       121396944, 122659802, 130827714,  55937578, 130705370, 125368142,\n",
       "         1226738,   6298875,  38604767,  34934353, 138260156, 133942061,\n",
       "          961607,  87314489, 119882670,   4287915,  54534988,  67326589,\n",
       "        84615347,  75289208,   3287408,  88043946,  14520987,  32358988,\n",
       "        91363523, 121245177,  39827879, 119692786,  19897182, 111956836,\n",
       "        27581020, 114514072,  38559964,  65028939,   1188969,  57195994,\n",
       "        91593619, 124953572,  81572192, 110792246, 139082105, 120652956,\n",
       "       136418634], dtype=int64)"
      ]
     },
     "execution_count": 46,
     "metadata": {},
     "output_type": "execute_result"
    }
   ],
   "source": [
    "a_eliminar = num.loc[num.ingresos > 300000].index.values\n",
    "a_eliminar"
   ]
  },
  {
   "cell_type": "markdown",
   "id": "b995bf77",
   "metadata": {},
   "source": [
    "###### Aplicar"
   ]
  },
  {
   "cell_type": "code",
   "execution_count": 47,
   "id": "413fa5ea",
   "metadata": {},
   "outputs": [],
   "source": [
    "cat = cat[~cat.index.isin(a_eliminar)]\n",
    "num = num[~num.index.isin(a_eliminar)]"
   ]
  },
  {
   "cell_type": "markdown",
   "id": "0f6b1e4a",
   "metadata": {},
   "source": [
    "## GUARDAR DATASETS TRAS CALIDAD DE DATOS"
   ]
  },
  {
   "cell_type": "markdown",
   "id": "abb12eef",
   "metadata": {},
   "source": [
    "### Definir los nombres de los archivos"
   ]
  },
  {
   "cell_type": "code",
   "execution_count": 48,
   "id": "f83c6f26",
   "metadata": {},
   "outputs": [],
   "source": [
    "ruta_trabajo = ruta_proyecto + '/02_Datos/03_Trabajo/' + 'trabajo_resultado_calidad.pickle'\n",
    "ruta_cat = ruta_proyecto + '/02_Datos/03_Trabajo/' + 'cat_resultado_calidad.pickle'\n",
    "ruta_num = ruta_proyecto + '/02_Datos/03_Trabajo/' + 'num_resultado_calidad.pickle'"
   ]
  },
  {
   "cell_type": "markdown",
   "id": "1699f284",
   "metadata": {},
   "source": [
    "### Guardar los archivos"
   ]
  },
  {
   "cell_type": "code",
   "execution_count": 49,
   "id": "6731887a",
   "metadata": {},
   "outputs": [],
   "source": [
    "df.to_pickle(ruta_trabajo)\n",
    "cat.to_pickle(ruta_cat)\n",
    "num.to_pickle(ruta_num)"
   ]
  }
 ],
 "metadata": {
  "kernelspec": {
   "display_name": "Python 3 (ipykernel)",
   "language": "python",
   "name": "python3"
  },
  "language_info": {
   "codemirror_mode": {
    "name": "ipython",
    "version": 3
   },
   "file_extension": ".py",
   "mimetype": "text/x-python",
   "name": "python",
   "nbconvert_exporter": "python",
   "pygments_lexer": "ipython3",
   "version": "3.12.3"
  },
  "toc": {
   "base_numbering": 1,
   "nav_menu": {},
   "number_sections": true,
   "sideBar": true,
   "skip_h1_title": false,
   "title_cell": "Table of Contents",
   "title_sidebar": "Contents",
   "toc_cell": false,
   "toc_position": {
    "height": "calc(100% - 180px)",
    "left": "10px",
    "top": "150px",
    "width": "298.833px"
   },
   "toc_section_display": true,
   "toc_window_display": true
  },
  "varInspector": {
   "cols": {
    "lenName": 16,
    "lenType": 16,
    "lenVar": 40
   },
   "kernels_config": {
    "python": {
     "delete_cmd_postfix": "",
     "delete_cmd_prefix": "del ",
     "library": "var_list.py",
     "varRefreshCmd": "print(var_dic_list())"
    },
    "r": {
     "delete_cmd_postfix": ") ",
     "delete_cmd_prefix": "rm(",
     "library": "var_list.r",
     "varRefreshCmd": "cat(var_dic_list()) "
    }
   },
   "position": {
    "height": "546.85px",
    "left": "680.75px",
    "right": "20px",
    "top": "118px",
    "width": "350px"
   },
   "types_to_exclude": [
    "module",
    "function",
    "builtin_function_or_method",
    "instance",
    "_Feature"
   ],
   "window_display": false
  }
 },
 "nbformat": 4,
 "nbformat_minor": 5
}
