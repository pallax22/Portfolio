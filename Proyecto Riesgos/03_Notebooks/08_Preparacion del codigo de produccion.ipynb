{
 "cells": [
  {
   "cell_type": "markdown",
   "id": "797ae63f",
   "metadata": {},
   "source": [
    "## IMPORTAR LAS LIBRERIAS"
   ]
  },
  {
   "cell_type": "code",
   "execution_count": 7,
   "id": "ffe7be80",
   "metadata": {
    "ExecuteTime": {
     "end_time": "2024-04-23T11:29:34.703462Z",
     "start_time": "2024-04-23T11:29:34.689114Z"
    }
   },
   "outputs": [],
   "source": [
    "import numpy as np\n",
    "import pandas as pd\n",
    "import pickle\n",
    "\n",
    "#Automcompletar rápido\n",
    "%config IPCompleter.greedy=True\n",
    "\n",
    "from sklearn.preprocessing import OrdinalEncoder\n",
    "from sklearn.preprocessing import OneHotEncoder\n",
    "from sklearn.preprocessing import Binarizer\n",
    "from sklearn.preprocessing import MinMaxScaler\n",
    "\n",
    "from sklearn.linear_model import LogisticRegression\n",
    "from sklearn.ensemble import HistGradientBoostingRegressor\n",
    "\n",
    "from sklearn.pipeline import Pipeline\n",
    "from sklearn.preprocessing import FunctionTransformer\n",
    "from sklearn.compose import make_column_transformer\n",
    "from sklearn.pipeline import make_pipeline"
   ]
  },
  {
   "cell_type": "markdown",
   "id": "5e12241c",
   "metadata": {},
   "source": [
    "## CARGAR LOS DATOS"
   ]
  },
  {
   "cell_type": "markdown",
   "id": "807b37d3",
   "metadata": {},
   "source": [
    "### Ruta del proyecto"
   ]
  },
  {
   "cell_type": "code",
   "execution_count": 8,
   "id": "5a6711f7",
   "metadata": {
    "ExecuteTime": {
     "end_time": "2024-04-23T11:29:36.476226Z",
     "start_time": "2024-04-23T11:29:36.468424Z"
    }
   },
   "outputs": [],
   "source": [
    "ruta_proyecto = 'C:/Users/Google Drive/DS4B/CursoMachineLearningPython/03_MACHINE_LEARNING/08_CASOS/03_RIESGOS'"
   ]
  },
  {
   "cell_type": "markdown",
   "id": "89fe9a43",
   "metadata": {},
   "source": [
    "### Nombre del fichero de datos"
   ]
  },
  {
   "cell_type": "code",
   "execution_count": 9,
   "id": "25b345d7",
   "metadata": {
    "ExecuteTime": {
     "end_time": "2024-04-23T11:29:39.476293Z",
     "start_time": "2024-04-23T11:29:39.470564Z"
    }
   },
   "outputs": [],
   "source": [
    "nombre_fichero_datos = 'prestamos.csv'"
   ]
  },
  {
   "cell_type": "markdown",
   "id": "765f82e1",
   "metadata": {},
   "source": [
    "### Cargar los datos"
   ]
  },
  {
   "cell_type": "code",
   "execution_count": 10,
   "id": "480494ff",
   "metadata": {
    "ExecuteTime": {
     "end_time": "2024-04-23T11:29:43.088735Z",
     "start_time": "2024-04-23T11:29:41.976755Z"
    }
   },
   "outputs": [],
   "source": [
    "ruta_completa = ruta_proyecto + '/02_Datos/01_Originales/' + nombre_fichero_datos\n",
    "\n",
    "df = pd.read_csv(ruta_completa,index_col=0)"
   ]
  },
  {
   "cell_type": "markdown",
   "id": "454738c9",
   "metadata": {},
   "source": [
    "### Seleccionar solo las variables finales"
   ]
  },
  {
   "cell_type": "markdown",
   "id": "9c127d9a",
   "metadata": {},
   "source": [
    "#### Apuntar (manualmente) la lista de variables finales sin extensiones"
   ]
  },
  {
   "cell_type": "code",
   "execution_count": 11,
   "id": "da477021",
   "metadata": {
    "ExecuteTime": {
     "end_time": "2024-04-23T11:29:45.424381Z",
     "start_time": "2024-04-23T11:29:45.418518Z"
    }
   },
   "outputs": [],
   "source": [
    "variables_finales = ['ingresos_verificados',\n",
    "                     'vivienda',\n",
    "                     'finalidad',\n",
    "                     'num_cuotas',\n",
    "                     'antigüedad_empleo',\n",
    "                     'rating',\n",
    "                     'ingresos',\n",
    "                     'dti',\n",
    "                     'num_lineas_credito',\n",
    "                     'porc_uso_revolving',\n",
    "                     'principal',\n",
    "                     'tipo_interes',\n",
    "                     'imp_cuota',\n",
    "                     'num_derogatorios',\n",
    "                     'estado',\n",
    "                     'imp_amortizado',\n",
    "                     'imp_recuperado'\n",
    "                  ]"
   ]
  },
  {
   "cell_type": "markdown",
   "id": "f81f09bf",
   "metadata": {},
   "source": [
    "#### Crear la matriz de variables procesos (excel)"
   ]
  },
  {
   "cell_type": "markdown",
   "id": "735beb13",
   "metadata": {},
   "source": [
    "Ir a la plantilla de Excel \"Fase Producción Plantilla Procesos\" y crear la matriz de variables por procesos."
   ]
  },
  {
   "cell_type": "markdown",
   "id": "ee3f31a6",
   "metadata": {},
   "source": [
    "#### Actualizar las importaciones"
   ]
  },
  {
   "cell_type": "markdown",
   "id": "80c12eea",
   "metadata": {},
   "source": [
    "Ir arriba a la celda de importacion de paquetes y actualizarlos con los que finalmente vamos a usar."
   ]
  },
  {
   "cell_type": "markdown",
   "id": "fe5a706b",
   "metadata": {},
   "source": [
    "## ESTRUCTURA DE LOS DATASETS"
   ]
  },
  {
   "cell_type": "markdown",
   "id": "a9cd9497",
   "metadata": {},
   "source": [
    "### Eliminar registros"
   ]
  },
  {
   "cell_type": "markdown",
   "id": "4af7dbab",
   "metadata": {},
   "source": [
    "#### Por atípicos"
   ]
  },
  {
   "cell_type": "code",
   "execution_count": 12,
   "id": "361fd5f0",
   "metadata": {
    "ExecuteTime": {
     "end_time": "2024-04-23T11:29:55.967938Z",
     "start_time": "2024-04-23T11:29:55.956537Z"
    }
   },
   "outputs": [],
   "source": [
    "a_eliminar = df.loc[df.ingresos > 300000].index.values"
   ]
  },
  {
   "cell_type": "code",
   "execution_count": 13,
   "id": "88b5ccb4",
   "metadata": {
    "ExecuteTime": {
     "end_time": "2024-04-23T11:29:56.790915Z",
     "start_time": "2024-04-23T11:29:56.723188Z"
    }
   },
   "outputs": [],
   "source": [
    "df = df[~df.index.isin(a_eliminar)]"
   ]
  },
  {
   "cell_type": "markdown",
   "id": "1852c8f6",
   "metadata": {},
   "source": [
    "### Seleccionar variables"
   ]
  },
  {
   "cell_type": "markdown",
   "id": "024faf5e",
   "metadata": {},
   "source": [
    "Quedarse solo con las de la lista."
   ]
  },
  {
   "cell_type": "code",
   "execution_count": 14,
   "id": "eb115fbf",
   "metadata": {
    "ExecuteTime": {
     "end_time": "2024-04-23T11:29:59.569530Z",
     "start_time": "2024-04-23T11:29:59.526555Z"
    }
   },
   "outputs": [],
   "source": [
    "df = df[variables_finales]"
   ]
  },
  {
   "cell_type": "markdown",
   "id": "99bb2255",
   "metadata": {},
   "source": [
    "## CREAR EL PIPELINE"
   ]
  },
  {
   "cell_type": "markdown",
   "id": "6d6e8fca",
   "metadata": {},
   "source": [
    "### Instanciar calidad de datos"
   ]
  },
  {
   "cell_type": "markdown",
   "id": "06178080",
   "metadata": {},
   "source": [
    "#### Crear la función"
   ]
  },
  {
   "cell_type": "code",
   "execution_count": 15,
   "id": "83c128e2",
   "metadata": {
    "ExecuteTime": {
     "end_time": "2024-04-23T11:30:02.119999Z",
     "start_time": "2024-04-23T11:30:02.114012Z"
    }
   },
   "outputs": [],
   "source": [
    "def calidad_datos(temp):\n",
    "    temp['antigüedad_empleo'] = temp['antigüedad_empleo'].fillna('desconocido')\n",
    "    \n",
    "    for column in temp.select_dtypes('number').columns:\n",
    "        temp[column] = temp[column].fillna(0)\n",
    "    \n",
    "    return temp"
   ]
  },
  {
   "cell_type": "markdown",
   "id": "1126f00c",
   "metadata": {},
   "source": [
    "### Instanciar creación de variables"
   ]
  },
  {
   "cell_type": "markdown",
   "id": "282eb56e",
   "metadata": {},
   "source": [
    "Dado que la creación de variables es diferente para los 3 modelos necesitamos construir 3 funciones."
   ]
  },
  {
   "cell_type": "markdown",
   "id": "e30da63d",
   "metadata": {},
   "source": [
    "#### Crear las funciones"
   ]
  },
  {
   "cell_type": "code",
   "execution_count": 16,
   "id": "4b461455",
   "metadata": {
    "ExecuteTime": {
     "end_time": "2024-04-23T11:30:07.024821Z",
     "start_time": "2024-04-23T11:30:07.015391Z"
    }
   },
   "outputs": [],
   "source": [
    "def creacion_variables_pd(df):\n",
    "    \n",
    "    temp = df.copy()\n",
    "    \n",
    "    temp['target_pd'] = np.where(temp.estado.isin(['Charged Off','Does not meet the credit policy. Status:Charged Off','Default']), 1, 0)\n",
    "    \n",
    "    temp.vivienda = temp.vivienda.replace(['ANY','NONE','OTHER'],'MORTGAGE')\n",
    "    \n",
    "    temp.finalidad = temp.finalidad.replace(['wedding','educational','renewable_energy'],'otros')\n",
    "    \n",
    "    #Eliminamos las variables que ya no usaremos\n",
    "    temp.drop(columns = ['estado','imp_amortizado','imp_recuperado'],inplace = True)\n",
    "    \n",
    "    #Separamos entre predictoras y target\n",
    "    temp_x = temp.iloc[:,:-1]\n",
    "    temp_y = temp.iloc[:,-1]\n",
    "    \n",
    "    return(temp_x,temp_y)"
   ]
  },
  {
   "cell_type": "code",
   "execution_count": 17,
   "id": "4f12fd5c",
   "metadata": {
    "ExecuteTime": {
     "end_time": "2024-04-23T11:30:08.482189Z",
     "start_time": "2024-04-23T11:30:08.473213Z"
    }
   },
   "outputs": [],
   "source": [
    "def creacion_variables_ead(df):\n",
    "    \n",
    "    temp = df.copy()\n",
    "    \n",
    "    temp['pendiente'] = temp.principal - temp.imp_amortizado\n",
    "    \n",
    "    temp['target_ead'] = temp.pendiente / temp.principal\n",
    "    \n",
    "    temp.vivienda = temp.vivienda.replace(['ANY','NONE','OTHER'],'MORTGAGE')\n",
    "    \n",
    "    temp.finalidad = temp.finalidad.replace(['wedding','educational','renewable_energy'],'otros')\n",
    "    \n",
    "    #Eliminamos las variables que ya no usaremos\n",
    "    temp.drop(columns = ['estado','imp_amortizado','imp_recuperado','pendiente'],inplace = True)\n",
    "    \n",
    "    #Separamos entre predictoras y target\n",
    "    temp_x = temp.iloc[:,:-1]\n",
    "    temp_y = temp.iloc[:,-1]\n",
    "    \n",
    "    return(temp_x,temp_y)"
   ]
  },
  {
   "cell_type": "code",
   "execution_count": 18,
   "id": "ee89e853",
   "metadata": {
    "ExecuteTime": {
     "end_time": "2024-04-23T11:30:10.774768Z",
     "start_time": "2024-04-23T11:30:10.765533Z"
    }
   },
   "outputs": [],
   "source": [
    "def creacion_variables_lgd(df):\n",
    "    \n",
    "    temp = df.copy()\n",
    "    \n",
    "    temp['pendiente'] = temp.principal - temp.imp_amortizado\n",
    "    \n",
    "    temp['target_lgd'] = 1 - (temp.imp_recuperado / temp.pendiente)\n",
    "    \n",
    "    temp['target_lgd'].fillna(0,inplace=True)\n",
    "    \n",
    "    temp.vivienda = temp.vivienda.replace(['ANY','NONE','OTHER'],'MORTGAGE')\n",
    "    \n",
    "    temp.finalidad = temp.finalidad.replace(['wedding','educational','renewable_energy'],'otros')\n",
    "    \n",
    "    #Eliminamos las variables que ya no usaremos\n",
    "    temp.drop(columns = ['estado','imp_amortizado','imp_recuperado','pendiente'],inplace = True)\n",
    "    \n",
    "    #Separamos entre predictoras y target\n",
    "    temp_x = temp.iloc[:,:-1]\n",
    "    temp_y = temp.iloc[:,-1]\n",
    "    \n",
    "    return(temp_x,temp_y)"
   ]
  },
  {
   "cell_type": "markdown",
   "id": "de72308d",
   "metadata": {},
   "source": [
    "#### Crear los dataframes de X e y"
   ]
  },
  {
   "cell_type": "code",
   "execution_count": null,
   "id": "053dd03e",
   "metadata": {
    "ExecuteTime": {
     "end_time": "2024-04-23T11:30:13.007126Z",
     "start_time": "2024-04-23T11:30:12.065401Z"
    }
   },
   "outputs": [],
   "source": [
    "x_pd, y_pd = creacion_variables_pd(calidad_datos(df))\n",
    "\n",
    "x_ead, y_ead = creacion_variables_ead(calidad_datos(df))\n",
    "\n",
    "x_lgd, y_lgd = creacion_variables_lgd(calidad_datos(df))"
   ]
  },
  {
   "cell_type": "markdown",
   "id": "88e57147",
   "metadata": {},
   "source": [
    "### Instanciar transformación de variables"
   ]
  },
  {
   "cell_type": "code",
   "execution_count": 20,
   "id": "ee711664",
   "metadata": {
    "ExecuteTime": {
     "end_time": "2024-04-23T11:30:41.234414Z",
     "start_time": "2024-04-23T11:30:41.217076Z"
    }
   },
   "outputs": [],
   "source": [
    "#ONE HOT ENCODING\n",
    "var_ohe = [ 'ingresos_verificados', 'vivienda','finalidad','num_cuotas']\n",
    "ohe = OneHotEncoder(sparse_output = False, handle_unknown='ignore')\n",
    "\n",
    "\n",
    "#ORDINAL ENCODING\n",
    "var_oe = ['antigüedad_empleo','rating']\n",
    "\n",
    "orden_antigüedad_empleo = ['desconocido','< 1 year','1 year','2 years','3 years','4 years',\n",
    "                           '5 years','6 years','7 years','8 years','9 years','10+ years']\n",
    "\n",
    "orden_rating = ['A','B','C','D','E','F','G']\n",
    "\n",
    "oe = OrdinalEncoder(categories = [orden_antigüedad_empleo,orden_rating],\n",
    "                    handle_unknown = 'use_encoded_value',\n",
    "                    unknown_value = 12)\n",
    "\n",
    "#BINNING\n",
    "var_bin = ['num_derogatorios']\n",
    "bina = Binarizer(threshold=0)\n",
    "\n",
    "\n",
    "#MIN-MAX SCALING\n",
    "\n",
    "mms = MinMaxScaler()\n"
   ]
  },
  {
   "cell_type": "markdown",
   "id": "eaf3f141",
   "metadata": {},
   "source": [
    "### Crear el pipe del preprocesamiento"
   ]
  },
  {
   "cell_type": "markdown",
   "id": "8d7b7821",
   "metadata": {},
   "source": [
    "#### Crear el column transformer"
   ]
  },
  {
   "cell_type": "code",
   "execution_count": 21,
   "id": "e577b34d",
   "metadata": {
    "ExecuteTime": {
     "end_time": "2024-04-23T11:31:00.657661Z",
     "start_time": "2024-04-23T11:31:00.651707Z"
    }
   },
   "outputs": [],
   "source": [
    "ct = make_column_transformer(\n",
    "    (ohe, var_ohe),\n",
    "    (oe, var_oe),\n",
    "    (bina, var_bin),\n",
    "    remainder='passthrough')"
   ]
  },
  {
   "cell_type": "markdown",
   "id": "2430a349",
   "metadata": {},
   "source": [
    "#### Crear el pipeline de preprocesamiento"
   ]
  },
  {
   "cell_type": "code",
   "execution_count": 23,
   "id": "964484be",
   "metadata": {
    "ExecuteTime": {
     "end_time": "2024-04-23T11:33:36.250684Z",
     "start_time": "2024-04-23T11:33:36.245597Z"
    }
   },
   "outputs": [],
   "source": [
    "pipe_prepo = make_pipeline(ct, mms)"
   ]
  },
  {
   "cell_type": "markdown",
   "id": "d4b08601",
   "metadata": {},
   "source": [
    "### Instanciar los modelos"
   ]
  },
  {
   "cell_type": "markdown",
   "id": "b64c9e60",
   "metadata": {},
   "source": [
    "#### Instanciar los algoritmos"
   ]
  },
  {
   "cell_type": "code",
   "execution_count": 24,
   "id": "8b2e752d",
   "metadata": {
    "ExecuteTime": {
     "end_time": "2024-04-23T11:34:47.746101Z",
     "start_time": "2024-04-23T11:34:47.738471Z"
    }
   },
   "outputs": [],
   "source": [
    "modelo_pd = LogisticRegression(solver = 'saga', n_jobs=-1, C = 0.25, penalty = 'l1')\n",
    "\n",
    "modelo_ead = HistGradientBoostingRegressor(learning_rate = 0.1,\n",
    "                                          max_iter = 200,\n",
    "                                          max_depth = 10,\n",
    "                                          min_samples_leaf = 100,\n",
    "                                          scoring = 'neg_mean_absolute_percentage_error',\n",
    "                                          l2_regularization = 0.75)\n",
    "\n",
    "modelo_lgd = HistGradientBoostingRegressor(learning_rate = 0.1,\n",
    "                                          max_iter = 200,\n",
    "                                          max_depth = 20,\n",
    "                                          min_samples_leaf = 100,\n",
    "                                          scoring = 'neg_mean_absolute_percentage_error',\n",
    "                                          l2_regularization = 0)"
   ]
  },
  {
   "cell_type": "markdown",
   "id": "80f8e2f3",
   "metadata": {},
   "source": [
    "#### Crear los pipes finales de entrenamiento"
   ]
  },
  {
   "cell_type": "code",
   "execution_count": 25,
   "id": "0efb038b",
   "metadata": {
    "ExecuteTime": {
     "end_time": "2024-04-23T11:34:49.338395Z",
     "start_time": "2024-04-23T11:34:49.333059Z"
    }
   },
   "outputs": [],
   "source": [
    "pipe_entrenamiento_pd = make_pipeline(pipe_prepo,modelo_pd)\n",
    "\n",
    "pipe_entrenamiento_ead = make_pipeline(pipe_prepo,modelo_ead)\n",
    "\n",
    "pipe_entrenamiento_lgd = make_pipeline(pipe_prepo,modelo_lgd)"
   ]
  },
  {
   "cell_type": "markdown",
   "id": "cb0700d8",
   "metadata": {},
   "source": [
    "#### Guardar el pipe final de entrenamiento"
   ]
  },
  {
   "cell_type": "code",
   "execution_count": 26,
   "id": "74b5beda",
   "metadata": {
    "ExecuteTime": {
     "end_time": "2024-04-23T11:35:13.688298Z",
     "start_time": "2024-04-23T11:35:13.672973Z"
    }
   },
   "outputs": [],
   "source": [
    "ruta_pipe_entrenamiento_pd = ruta_proyecto + '/04_Modelos/pipe_entrenamiento_pd.pickle'\n",
    "\n",
    "with open(ruta_pipe_entrenamiento_pd, mode='wb') as file:\n",
    "   pickle.dump(pipe_entrenamiento_pd, file)"
   ]
  },
  {
   "cell_type": "code",
   "execution_count": 27,
   "id": "1dbf4597",
   "metadata": {
    "ExecuteTime": {
     "end_time": "2024-04-23T11:35:14.501977Z",
     "start_time": "2024-04-23T11:35:14.493964Z"
    }
   },
   "outputs": [],
   "source": [
    "ruta_pipe_entrenamiento_ead = ruta_proyecto + '/04_Modelos/pipe_entrenamiento_ead.pickle'\n",
    "\n",
    "with open(ruta_pipe_entrenamiento_ead, mode='wb') as file:\n",
    "   pickle.dump(pipe_entrenamiento_ead, file)"
   ]
  },
  {
   "cell_type": "code",
   "execution_count": 28,
   "id": "004f26f1",
   "metadata": {
    "ExecuteTime": {
     "end_time": "2024-04-23T11:35:15.270568Z",
     "start_time": "2024-04-23T11:35:15.255801Z"
    }
   },
   "outputs": [],
   "source": [
    "ruta_pipe_entrenamiento_lgd = ruta_proyecto + '/04_Modelos/pipe_entrenamiento_lgd.pickle'\n",
    "\n",
    "with open(ruta_pipe_entrenamiento_lgd, mode='wb') as file:\n",
    "   pickle.dump(pipe_entrenamiento_lgd, file)"
   ]
  },
  {
   "cell_type": "markdown",
   "id": "2c7e5ed1",
   "metadata": {},
   "source": [
    "#### Entrenar los pipes"
   ]
  },
  {
   "cell_type": "code",
   "execution_count": 29,
   "id": "13ca2db6",
   "metadata": {
    "ExecuteTime": {
     "end_time": "2024-04-23T11:39:02.813979Z",
     "start_time": "2024-04-23T11:35:19.063389Z"
    }
   },
   "outputs": [],
   "source": [
    "pipe_ejecucion_pd = pipe_entrenamiento_pd.fit(x_pd,y_pd)\n",
    "pipe_ejecucion_ead = pipe_entrenamiento_ead.fit(x_ead,y_ead)\n",
    "pipe_ejecucion_lgd = pipe_entrenamiento_lgd.fit(x_lgd,y_lgd)"
   ]
  },
  {
   "cell_type": "markdown",
   "id": "52e506db",
   "metadata": {},
   "source": [
    "## GUARDAR EL PIPE"
   ]
  },
  {
   "cell_type": "markdown",
   "id": "afba8bc8",
   "metadata": {},
   "source": [
    "### Guardar el pipe final de ejecución"
   ]
  },
  {
   "cell_type": "code",
   "execution_count": 30,
   "id": "1dda8f25",
   "metadata": {
    "ExecuteTime": {
     "end_time": "2024-04-23T11:40:28.213840Z",
     "start_time": "2024-04-23T11:40:28.199641Z"
    }
   },
   "outputs": [],
   "source": [
    "ruta_pipe_ejecucion_pd = ruta_proyecto + '/04_Modelos/pipe_ejecucion_pd.pickle'\n",
    "\n",
    "with open(ruta_pipe_ejecucion_pd, mode='wb') as file:\n",
    "   pickle.dump(pipe_ejecucion_pd, file)"
   ]
  },
  {
   "cell_type": "code",
   "execution_count": 31,
   "id": "dcde2dbb",
   "metadata": {
    "ExecuteTime": {
     "end_time": "2024-04-23T11:40:29.108007Z",
     "start_time": "2024-04-23T11:40:29.082887Z"
    }
   },
   "outputs": [],
   "source": [
    "ruta_pipe_ejecucion_ead = ruta_proyecto + '/04_Modelos/pipe_ejecucion_ead.pickle'\n",
    "\n",
    "with open(ruta_pipe_ejecucion_ead, mode='wb') as file:\n",
    "   pickle.dump(pipe_ejecucion_ead, file)"
   ]
  },
  {
   "cell_type": "code",
   "execution_count": 32,
   "id": "9b5a5b3e",
   "metadata": {
    "ExecuteTime": {
     "end_time": "2024-04-23T11:40:29.859099Z",
     "start_time": "2024-04-23T11:40:29.836612Z"
    }
   },
   "outputs": [],
   "source": [
    "ruta_pipe_ejecucion_lgd = ruta_proyecto + '/04_Modelos/pipe_ejecucion_lgd.pickle'\n",
    "\n",
    "with open(ruta_pipe_ejecucion_lgd, mode='wb') as file:\n",
    "   pickle.dump(pipe_ejecucion_lgd, file)"
   ]
  },
  {
   "cell_type": "code",
   "execution_count": null,
   "id": "76e51257",
   "metadata": {},
   "outputs": [],
   "source": []
  }
 ],
 "metadata": {
  "hide_input": false,
  "kernelspec": {
   "display_name": "Python 3 (ipykernel)",
   "language": "python",
   "name": "python3"
  },
  "language_info": {
   "codemirror_mode": {
    "name": "ipython",
    "version": 3
   },
   "file_extension": ".py",
   "mimetype": "text/x-python",
   "name": "python",
   "nbconvert_exporter": "python",
   "pygments_lexer": "ipython3",
   "version": "3.12.3"
  },
  "nbTranslate": {
   "displayLangs": [
    "*"
   ],
   "hotkey": "alt-t",
   "langInMainMenu": true,
   "sourceLang": "en",
   "targetLang": "fr",
   "useGoogleTranslate": true
  },
  "toc": {
   "base_numbering": 1,
   "nav_menu": {},
   "number_sections": true,
   "sideBar": true,
   "skip_h1_title": false,
   "title_cell": "Table of Contents",
   "title_sidebar": "Contents",
   "toc_cell": false,
   "toc_position": {
    "height": "calc(100% - 180px)",
    "left": "10px",
    "top": "150px",
    "width": "383.367px"
   },
   "toc_section_display": true,
   "toc_window_display": true
  },
  "varInspector": {
   "cols": {
    "lenName": 16,
    "lenType": 16,
    "lenVar": 40
   },
   "kernels_config": {
    "python": {
     "delete_cmd_postfix": "",
     "delete_cmd_prefix": "del ",
     "library": "var_list.py",
     "varRefreshCmd": "print(var_dic_list())"
    },
    "r": {
     "delete_cmd_postfix": ") ",
     "delete_cmd_prefix": "rm(",
     "library": "var_list.r",
     "varRefreshCmd": "cat(var_dic_list()) "
    }
   },
   "position": {
    "height": "437.85px",
    "left": "1550px",
    "right": "20px",
    "top": "120px",
    "width": "350px"
   },
   "types_to_exclude": [
    "module",
    "function",
    "builtin_function_or_method",
    "instance",
    "_Feature"
   ],
   "window_display": false
  }
 },
 "nbformat": 4,
 "nbformat_minor": 5
}
